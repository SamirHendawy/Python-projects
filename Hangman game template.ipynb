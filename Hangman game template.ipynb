{
 "cells": [
  {
   "cell_type": "code",
   "execution_count": 1,
   "metadata": {},
   "outputs": [],
   "source": [
    "import random"
   ]
  },
  {
   "cell_type": "code",
   "execution_count": 2,
   "metadata": {
    "id": "agbm-l71TqIx"
   },
   "outputs": [],
   "source": [
    "someWords = '''apple banana mango strawberry\n",
    "orange grape pineapple apricot lemon coconut watermelon \n",
    "cherry papaya berry peach lychee muskmelon'''"
   ]
  },
  {
   "cell_type": "code",
   "execution_count": 3,
   "metadata": {},
   "outputs": [
    {
     "data": {
      "text/plain": [
       "['apple',\n",
       " 'banana',\n",
       " 'mango',\n",
       " 'strawberry',\n",
       " 'orange',\n",
       " 'grape',\n",
       " 'pineapple',\n",
       " 'apricot',\n",
       " 'lemon',\n",
       " 'coconut',\n",
       " 'watermelon',\n",
       " 'cherry',\n",
       " 'papaya',\n",
       " 'berry',\n",
       " 'peach',\n",
       " 'lychee',\n",
       " 'muskmelon']"
      ]
     },
     "execution_count": 3,
     "metadata": {},
     "output_type": "execute_result"
    }
   ],
   "source": [
    "# Get each fruit in a list\n",
    "fruits = someWords.split()\n",
    "fruits"
   ]
  },
  {
   "cell_type": "code",
   "execution_count": 7,
   "metadata": {},
   "outputs": [],
   "source": [
    "def print_list(word_list):\n",
    "    for ch in word_list:\n",
    "        print(ch, end=' ')\n",
    "    print()\n",
    "\n",
    "def validate_input(guess, guessed_word):\n",
    "    if len(guess) != 1:\n",
    "        print(\"Enter only ONE letter. Try again.\")\n",
    "        return False\n",
    "    elif not guess.isalpha():\n",
    "        print(\"Enter alphabets only. Try again.\")\n",
    "        return False\n",
    "    elif guess in guessed_word:\n",
    "        print(\"You already guessed this letter. Try again.\")\n",
    "        return False\n",
    "    else:\n",
    "        return True"
   ]
  },
  {
   "cell_type": "code",
   "execution_count": 8,
   "metadata": {},
   "outputs": [],
   "source": [
    "def hangman(fruits):\n",
    "    # Select random fruit\n",
    "    word = random.choice(fruits)\n",
    "\n",
    "    chances = len(word) + 2\n",
    "    fails = 0\n",
    "    guessed_word = ['_'] * len(word)\n",
    "\n",
    "    print(\"Welcome to hangman! Try to guess the word! :)\\n\")\n",
    "\n",
    "    playing = True\n",
    "    while playing:\n",
    "        print_list(guessed_word)\n",
    "\n",
    "        guess = input(\"Guess a letter: \").lower()\n",
    "\n",
    "        '''\n",
    "        Problems with the guess:\n",
    "        1 - Guess the letter only once\n",
    "        2 - Input is more than one character\n",
    "        3 - Input must be alphabet\n",
    "        '''\n",
    "        if not validate_input(guess, guessed_word):\n",
    "            continue\n",
    "\n",
    "        for idx, ch in enumerate(word):\n",
    "            if guess == ch:\n",
    "                guessed_word[idx] = ch\n",
    "\n",
    "        if ''.join(guessed_word) == word:\n",
    "            print_list(guessed_word)\n",
    "            print(\"Congratulation! You won the game.\")\n",
    "            playing = False\n",
    "\n",
    "        if guess not in guessed_word:\n",
    "            fails += 1\n",
    "            if fails == chances:\n",
    "                print(f\"Game over. Correct word: {word}\")\n",
    "                playing = False\n",
    "            else:\n",
    "                print(f\"Letter not in the word. Chances left: {chances - fails}\")"
   ]
  },
  {
   "cell_type": "code",
   "execution_count": 10,
   "metadata": {},
   "outputs": [
    {
     "name": "stdout",
     "output_type": "stream",
     "text": [
      "Welcome to hangman! Try to guess the word! :)\n",
      "\n",
      "_ _ _ _ _ _ \n",
      "Letter not in the word. Chances left: 7\n",
      "_ _ _ _ _ _ \n",
      "Letter not in the word. Chances left: 6\n",
      "_ _ _ _ _ _ \n",
      "Letter not in the word. Chances left: 5\n",
      "_ _ _ _ _ _ \n",
      "Letter not in the word. Chances left: 4\n",
      "_ _ _ _ _ _ \n",
      "Letter not in the word. Chances left: 3\n",
      "_ _ _ _ _ _ \n",
      "Letter not in the word. Chances left: 2\n",
      "_ _ _ _ _ _ \n",
      "_ _ _ _ e e \n",
      "Letter not in the word. Chances left: 1\n",
      "_ _ _ _ e e \n",
      "Game over. Correct word: lychee\n"
     ]
    }
   ],
   "source": [
    "playing = True\n",
    "while playing:\n",
    "    hangman(fruits)\n",
    "    choice = input(\"Play again? (y/n)\")\n",
    "    if choice == 'n':\n",
    "        playing = False"
   ]
  }
 ],
 "metadata": {
  "colab": {
   "provenance": []
  },
  "interpreter": {
   "hash": "911cfdf4ee29fcb964d36255e478fd122ddd7ef148a5798ecfb832de08390f17"
  },
  "kernelspec": {
   "display_name": "Python 3 (ipykernel)",
   "language": "python",
   "name": "python3"
  },
  "language_info": {
   "codemirror_mode": {
    "name": "ipython",
    "version": 3
   },
   "file_extension": ".py",
   "mimetype": "text/x-python",
   "name": "python",
   "nbconvert_exporter": "python",
   "pygments_lexer": "ipython3",
   "version": "3.9.7"
  }
 },
 "nbformat": 4,
 "nbformat_minor": 1
}
